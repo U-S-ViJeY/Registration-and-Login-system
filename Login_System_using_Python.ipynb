{
  "nbformat": 4,
  "nbformat_minor": 0,
  "metadata": {
    "colab": {
      "name": "Login System using Python",
      "provenance": [],
      "mount_file_id": "1x6IvC8ZzwswlwVSSCr9lHB3iUXpKC1Lb",
      "authorship_tag": "ABX9TyM+l+YsFbCXLfrWIg7pOzSD",
      "include_colab_link": true
    },
    "kernelspec": {
      "name": "python3",
      "display_name": "Python 3"
    },
    "language_info": {
      "name": "python"
    }
  },
  "cells": [
    {
      "cell_type": "markdown",
      "metadata": {
        "id": "view-in-github",
        "colab_type": "text"
      },
      "source": [
        "<a href=\"https://colab.research.google.com/github/U-S-ViJeY/Registration-and-Login-system/blob/main/Login_System_using_Python.ipynb\" target=\"_parent\"><img src=\"https://colab.research.google.com/assets/colab-badge.svg\" alt=\"Open In Colab\"/></a>"
      ]
    },
    {
      "cell_type": "markdown",
      "source": [
        "**Registration and Login system using Python( file handling)\n",
        "** "
      ],
      "metadata": {
        "id": "rudCoQgMyKc0"
      }
    },
    {
      "cell_type": "code",
      "source": [
        "import pandas as pd\n",
        "import re\n",
        "import csv\n",
        "List=[]\n"
      ],
      "metadata": {
        "id": "8i104seDvNSc"
      },
      "execution_count": null,
      "outputs": []
    },
    {
      "cell_type": "markdown",
      "source": [
        "Mail *Validation* "
      ],
      "metadata": {
        "id": "_pbPytBLvORU"
      }
    },
    {
      "cell_type": "code",
      "source": [
        "def validate():\n",
        "    while True:\n",
        "        email=input('Enter a mail Id:')\n",
        "        pattern='[A-Za-z][\\w\\._]+@[A-Za-z]+\\.[A-Za-z]{2,}[\\.]?([A-Za-z]{0}|[A-Za-z]{2,})'\n",
        "        if re.fullmatch(pattern,email):\n",
        "            List.append(email)\n",
        "            break\n",
        "        else:\n",
        "            print(\"Please Enter a valid email\")"
      ],
      "metadata": {
        "id": "S8LFjkHjvRqO"
      },
      "execution_count": null,
      "outputs": []
    },
    {
      "cell_type": "markdown",
      "source": [
        "Password Validation"
      ],
      "metadata": {
        "id": "VC4dVv6EvVm-"
      }
    },
    {
      "cell_type": "code",
      "source": [
        "def validate_1():\n",
        "    while True:\n",
        "        password = input(\"Enter a password: \")\n",
        "        if len(password) < 5 or len(password) > 16:\n",
        "            print(\"Make sure your password is at least 5 letters and maximum 16 letters\")\n",
        "        elif re.search('[0-9]',password) is None:\n",
        "            print(\"Make sure your password has a number in it\")\n",
        "        elif re.search('[A-Z]',password) is None: \n",
        "            print(\"Make sure your password has a capital letter in it\")\n",
        "        elif re.search('[@.!_$*&%#?]',password) is None:\n",
        "            print(\"Make sure your password has special character in it\")\n",
        "        else:\n",
        "            List.append(password)\n",
        "            break"
      ],
      "metadata": {
        "id": "lWOrqH_BvX4Y"
      },
      "execution_count": null,
      "outputs": []
    },
    {
      "cell_type": "markdown",
      "source": [
        "Saving the User Input in File"
      ],
      "metadata": {
        "id": "HgFImJRlvfo-"
      }
    },
    {
      "cell_type": "code",
      "source": [
        "def appending():\n",
        "    f = open('task.csv','a')\n",
        "    writer = csv.writer(f)\n",
        "    writer.writerow(List)\n",
        "    f.close()"
      ],
      "metadata": {
        "id": "SbQtDl4hvn6N"
      },
      "execution_count": null,
      "outputs": []
    },
    {
      "cell_type": "markdown",
      "source": [
        "Login Validation"
      ],
      "metadata": {
        "id": "ql5l0bJyvttT"
      }
    },
    {
      "cell_type": "code",
      "source": [
        "###Login and Registration Part\n",
        "def login():\n",
        "    flag=0\n",
        "    Response=int(input(\"Please choose 1 for Login or any other for Registeration:\"))\n",
        "    if Response==1:\n",
        "        Input_1=input(\"Enter your mail ID:\")\n",
        "        Input_2=input(\"Enter your password:\")\n",
        "        df=pd.read_csv('task.csv')\n",
        "        for a in df.User_Name:\n",
        "            if a==Input_1:\n",
        "                flag=1\n",
        "                number=df[df[\"User_Name\"]==Input_1].index.values\n",
        "                if df.at[number[0],\"Password\"]==Input_2:\n",
        "                    print(\"Success\")\n",
        "                    flag=2\n",
        "                    \n",
        "        ###Warning the user that the given password is wrong and asking the user whether the user wants to retrive it or not                \n",
        "        if flag==1:\n",
        "            Retrive=int(input(\"It seems your password is wrong\\nPress 1 to retrive your password or any other key for Registration:\"))\n",
        "            if Retrive==1:\n",
        "                for i in df.User_Name:\n",
        "                    if i==Input_1:\n",
        "                        a=df[df[\"User_Name\"]==Input_1].index.values\n",
        "                        print(df.at[a[0],\"Password\"])\n",
        "                        \n",
        "            ### if user chooses other than 1 it will go for registration            \n",
        "            else:\n",
        "                print(\"please register with us\")\n",
        "                validate()\n",
        "                validate_1()\n",
        "                appending()\n",
        "                \n",
        "        ###After checking the user's input in the file, showing the user that the credential are not matched with the file and the user needs to register to continue        \n",
        "        elif flag==0:\n",
        "            print(\"This email is not registered with us\\nPlease Register\")\n",
        "            validate()\n",
        "            validate_1()\n",
        "            appending()\n",
        "        \n",
        "    else:\n",
        "        validate()\n",
        "        validate_1()\n",
        "        appending()\n",
        "\n",
        "login()"
      ],
      "metadata": {
        "colab": {
          "base_uri": "https://localhost:8080/"
        },
        "id": "golrCv7PvyKm",
        "outputId": "43397959-6682-4b76-f4b5-3c2f2173614c"
      },
      "execution_count": null,
      "outputs": [
        {
          "output_type": "stream",
          "name": "stdout",
          "text": [
            "Please choose 1 for Login or any other for Registeration:1\n",
            "Enter your mail ID:mani@gmail.com\n",
            "Enter your password:Qwerty@123\n",
            "Success\n"
          ]
        }
      ]
    }
  ]
}